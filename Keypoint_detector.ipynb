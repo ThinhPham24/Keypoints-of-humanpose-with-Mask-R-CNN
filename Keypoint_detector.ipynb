{
  "cells": [
    {
      "cell_type": "markdown",
      "metadata": {
        "id": "view-in-github",
        "colab_type": "text"
      },
      "source": [
        "<a href=\"https://colab.research.google.com/github/ThinhPham24/Keypoints-of-humanpose-with-Mask-R-CNN/blob/master/Keypoint_detector.ipynb\" target=\"_parent\"><img src=\"https://colab.research.google.com/assets/colab-badge.svg\" alt=\"Open In Colab\"/></a>"
      ]
    }
    
 }
